{
 "cells": [
  {
   "cell_type": "code",
   "execution_count": 57,
   "source": [
    "import requests as re\n",
    "import pandas as pd"
   ],
   "outputs": [],
   "metadata": {}
  },
  {
   "cell_type": "markdown",
   "source": [
    "lAB\n",
    "\n",
    "create a function that returns the price, names of origin and arrival airports and the name of the company. Do it for all the flights between two dates that cost the same."
   ],
   "metadata": {}
  },
  {
   "cell_type": "code",
   "execution_count": 58,
   "source": [
    "import getpass\n",
    "rapidAPIkey = getpass.getpass()\n",
    "\n",
    "\n",
    "def get_dates(start_date, end_date):\n",
    "    return pd.Series(pd.date_range(start_date, end_date, freq = 'd').format())"
   ],
   "outputs": [],
   "metadata": {}
  },
  {
   "cell_type": "code",
   "execution_count": 59,
   "source": [
    "def city_code(city, url, headers):\n",
    "\n",
    "    parameters = {\"query\": city}\n",
    "    response = re.get(url, headers = headers, params = parameters)\n",
    "\n",
    "    return response.json()[\"Places\"][0][\"PlaceId\"]"
   ],
   "outputs": [],
   "metadata": {}
  },
  {
   "cell_type": "code",
   "execution_count": 60,
   "source": [
    "dates = get_dates(\"2021-09-25\", \"2021-10-15\")\n",
    "departure_code = city_code('Amsterdam', url, headers)\n",
    "arrival_code = city_code('Tokyo', url, headers)\n",
    "new_url = \"https://skyscanner-skyscanner-flight-search-v1.p.rapidapi.com/apiservices/browsequotes/v1.0/US/USD/en-US\"\n",
    "\n",
    "def get_data(dates, departure_code, arrival_code, url, headers):\n",
    "\n",
    "    prices = list()\n",
    "    departures_airports = list()\n",
    "    arrivals_airports = list()\n",
    "    companies = list()\n",
    "\n",
    "    for date in dates:\n",
    "\n",
    "        parameters = {\"inboundpartialdate\": {date}}\n",
    "        query_url = f'{url}/{departure_code}/{arrival_code}/{date}'\n",
    "        response = re.get(query_url, headers = headers, params = parameters)\n",
    "\n",
    "        prices.append(response.json()['Quotes'][0]['MinPrice'])\n",
    "        departures_airports.append(response.json()['Places'][0]['Name'])\n",
    "        arrivals_airports.append(response.json()['Places'][1]['Name'])\n",
    "        companies.append(response.json()['Carriers'][0]['Name'])\n",
    "\n",
    "    return pd.DataFrame({'date': dates, 'company': companies, 'departure': departures_airports, \n",
    "                         'arrival': arrivals_airports, 'price': prices})\n",
    "\n",
    "flights_data = get_data(dates, departure_code, arrival_code, new_url, headers)"
   ],
   "outputs": [
    {
     "output_type": "error",
     "ename": "NameError",
     "evalue": "name 'url' is not defined",
     "traceback": [
      "\u001b[0;31m---------------------------------------------------------------------------\u001b[0m",
      "\u001b[0;31mNameError\u001b[0m                                 Traceback (most recent call last)",
      "\u001b[0;32m<ipython-input-60-d4c3bea904ab>\u001b[0m in \u001b[0;36m<module>\u001b[0;34m\u001b[0m\n\u001b[1;32m      1\u001b[0m \u001b[0mdates\u001b[0m \u001b[0;34m=\u001b[0m \u001b[0mget_dates\u001b[0m\u001b[0;34m(\u001b[0m\u001b[0;34m\"2021-09-25\"\u001b[0m\u001b[0;34m,\u001b[0m \u001b[0;34m\"2021-10-15\"\u001b[0m\u001b[0;34m)\u001b[0m\u001b[0;34m\u001b[0m\u001b[0;34m\u001b[0m\u001b[0m\n\u001b[0;32m----> 2\u001b[0;31m \u001b[0mdeparture_code\u001b[0m \u001b[0;34m=\u001b[0m \u001b[0mcity_code\u001b[0m\u001b[0;34m(\u001b[0m\u001b[0;34m'Amsterdam'\u001b[0m\u001b[0;34m,\u001b[0m \u001b[0murl\u001b[0m\u001b[0;34m,\u001b[0m \u001b[0mheaders\u001b[0m\u001b[0;34m)\u001b[0m\u001b[0;34m\u001b[0m\u001b[0;34m\u001b[0m\u001b[0m\n\u001b[0m\u001b[1;32m      3\u001b[0m \u001b[0marrival_code\u001b[0m \u001b[0;34m=\u001b[0m \u001b[0mcity_code\u001b[0m\u001b[0;34m(\u001b[0m\u001b[0;34m'Tokyo'\u001b[0m\u001b[0;34m,\u001b[0m \u001b[0murl\u001b[0m\u001b[0;34m,\u001b[0m \u001b[0mheaders\u001b[0m\u001b[0;34m)\u001b[0m\u001b[0;34m\u001b[0m\u001b[0;34m\u001b[0m\u001b[0m\n\u001b[1;32m      4\u001b[0m \u001b[0mnew_url\u001b[0m \u001b[0;34m=\u001b[0m \u001b[0;34m\"https://skyscanner-skyscanner-flight-search-v1.p.rapidapi.com/apiservices/browsequotes/v1.0/US/USD/en-US\"\u001b[0m\u001b[0;34m\u001b[0m\u001b[0;34m\u001b[0m\u001b[0m\n\u001b[1;32m      5\u001b[0m \u001b[0;34m\u001b[0m\u001b[0m\n",
      "\u001b[0;31mNameError\u001b[0m: name 'url' is not defined"
     ]
    }
   ],
   "metadata": {}
  },
  {
   "cell_type": "code",
   "execution_count": null,
   "source": [],
   "outputs": [],
   "metadata": {}
  }
 ],
 "metadata": {
  "orig_nbformat": 4,
  "language_info": {
   "name": "python",
   "version": "3.7.6",
   "mimetype": "text/x-python",
   "codemirror_mode": {
    "name": "ipython",
    "version": 3
   },
   "pygments_lexer": "ipython3",
   "nbconvert_exporter": "python",
   "file_extension": ".py"
  },
  "kernelspec": {
   "name": "python3",
   "display_name": "Python 3.7.6 64-bit ('base': conda)"
  },
  "interpreter": {
   "hash": "dca0ade3e726a953b501b15e8e990130d2b7799f14cfd9f4271676035ebe5511"
  }
 },
 "nbformat": 4,
 "nbformat_minor": 2
}